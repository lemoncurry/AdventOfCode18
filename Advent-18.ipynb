{
 "cells": [
  {
   "cell_type": "markdown",
   "metadata": {},
   "source": [
    "# Advent of Code 2018\n",
    "\n",
    "My solutions for the `Advent of Code 2018`."
   ]
  },
  {
   "cell_type": "markdown",
   "metadata": {},
   "source": [
    "## Import"
   ]
  },
  {
   "cell_type": "code",
   "execution_count": 23,
   "metadata": {},
   "outputs": [],
   "source": [
    "from collections import Counter\n",
    "from itertools   import cycle\n",
    "\n",
    "def Input(day, line_parser=str.strip, file_template='day{}.txt'):\n",
    "    \"For dayX input file, return tuple of line_parser\"\n",
    "    return maptuple(line_parser, open(file_template.format(day)))\n",
    "\n",
    "def maptuple(n, *args): \n",
    "    \"Results of Map into tuple.\"\n",
    "    return tuple(map(n, *args))\n",
    "\n",
    "def quantify(iterable, pred=bool):\n",
    "    \"Count how many items in iterable have pred(item) true. - method taken from recipes from itertools\"\n",
    "    return sum(map(pred, iterable))"
   ]
  },
  {
   "cell_type": "markdown",
   "metadata": {},
   "source": [
    "## Day 1"
   ]
  },
  {
   "cell_type": "markdown",
   "metadata": {},
   "source": [
    "### Part 1"
   ]
  },
  {
   "cell_type": "code",
   "execution_count": 24,
   "metadata": {},
   "outputs": [
    {
     "name": "stdout",
     "output_type": "stream",
     "text": [
      "1025\n"
     ]
    },
    {
     "data": {
      "text/plain": [
       "425"
      ]
     },
     "execution_count": 24,
     "metadata": {},
     "output_type": "execute_result"
    }
   ],
   "source": [
    "frequencies = Input(1, int)\n",
    "\n",
    "sum(frequencies)"
   ]
  },
  {
   "cell_type": "markdown",
   "metadata": {},
   "source": [
    "### Part 2"
   ]
  },
  {
   "cell_type": "code",
   "execution_count": 28,
   "metadata": {},
   "outputs": [
    {
     "data": {
      "text/plain": [
       "57538"
      ]
     },
     "execution_count": 28,
     "metadata": {},
     "output_type": "execute_result"
    }
   ],
   "source": [
    "def part_sums(nums):\n",
    "    \"Sum after each change of frequency\"\n",
    "    total = 0\n",
    "    for n in nums:\n",
    "        total += n\n",
    "        yield total\n",
    "        \n",
    "def reached_twice(frequency):\n",
    "    \"The first frequency reched twice.\"\n",
    "    reached = set()\n",
    "    for frequ in frequency:\n",
    "        if frequ in reached:\n",
    "            return frequ\n",
    "        reached.add(frequ)\n",
    "        \n",
    "reached_twice(part_sums(cycle(frequencies)))\n",
    "    "
   ]
  },
  {
   "cell_type": "markdown",
   "metadata": {},
   "source": [
    "## Day 2"
   ]
  },
  {
   "cell_type": "code",
   "execution_count": 30,
   "metadata": {},
   "outputs": [
    {
     "data": {
      "text/plain": [
       "8820"
      ]
     },
     "execution_count": 30,
     "metadata": {},
     "output_type": "execute_result"
    }
   ],
   "source": [
    "input2 = Input(2)\n",
    "\n",
    "def letter_count(ids, n): \n",
    "    return quantify(ids, lambda s: n in Counter(s).values())\n",
    "\n",
    "checksum = letter_count(input2, 2) * letter_count(input2, 3)\n",
    "\n",
    "checksum"
   ]
  },
  {
   "cell_type": "code",
   "execution_count": null,
   "metadata": {},
   "outputs": [],
   "source": []
  }
 ],
 "metadata": {
  "kernelspec": {
   "display_name": "Python 3",
   "language": "python",
   "name": "python3"
  },
  "language_info": {
   "codemirror_mode": {
    "name": "ipython",
    "version": 3
   },
   "file_extension": ".py",
   "mimetype": "text/x-python",
   "name": "python",
   "nbconvert_exporter": "python",
   "pygments_lexer": "ipython3",
   "version": "3.7.2"
  },
  "varInspector": {
   "cols": {
    "lenName": 16,
    "lenType": 16,
    "lenVar": 40
   },
   "kernels_config": {
    "python": {
     "delete_cmd_postfix": "",
     "delete_cmd_prefix": "del ",
     "library": "var_list.py",
     "varRefreshCmd": "print(var_dic_list())"
    },
    "r": {
     "delete_cmd_postfix": ") ",
     "delete_cmd_prefix": "rm(",
     "library": "var_list.r",
     "varRefreshCmd": "cat(var_dic_list()) "
    }
   },
   "types_to_exclude": [
    "module",
    "function",
    "builtin_function_or_method",
    "instance",
    "_Feature"
   ],
   "window_display": false
  }
 },
 "nbformat": 4,
 "nbformat_minor": 2
}
